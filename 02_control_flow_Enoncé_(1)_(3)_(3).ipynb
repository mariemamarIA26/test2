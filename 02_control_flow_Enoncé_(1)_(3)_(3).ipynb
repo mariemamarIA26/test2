{
  "nbformat": 4,
  "nbformat_minor": 0,
  "metadata": {
    "kernelspec": {
      "display_name": "Python 3",
      "language": "python",
      "name": "python3"
    },
    "language_info": {
      "codemirror_mode": {
        "name": "ipython",
        "version": 3
      },
      "file_extension": ".py",
      "mimetype": "text/x-python",
      "name": "python",
      "nbconvert_exporter": "python",
      "pygments_lexer": "ipython3",
      "version": "3.8.3"
    },
    "nav_menu": {},
    "toc": {
      "navigate_menu": true,
      "number_sections": true,
      "sideBar": true,
      "threshold": 6,
      "toc_cell": false,
      "toc_section_display": "block",
      "toc_window_display": false
    },
    "colab": {
      "name": "02-control_flow-Enoncé (1) (3) (3).ipynb",
      "provenance": [],
      "collapsed_sections": [],
      "include_colab_link": true
    }
  },
  "cells": [
    {
      "cell_type": "markdown",
      "metadata": {
        "id": "view-in-github",
        "colab_type": "text"
      },
      "source": [
        "<a href=\"https://colab.research.google.com/github/mariemamarIA26/test2/blob/master/02_control_flow_Enonce%CC%81_(1)_(3)_(3).ipynb\" target=\"_parent\"><img src=\"https://colab.research.google.com/assets/colab-badge.svg\" alt=\"Open In Colab\"/></a>"
      ]
    },
    {
      "cell_type": "markdown",
      "metadata": {
        "id": "SnEOdqCP2HHs"
      },
      "source": [
        "# Python the basics: control flows\n",
        "\n",
        "> *DS Data manipulation, analysis and visualisation in Python*  \n",
        "> *September, 2020*\n"
      ]
    },
    {
      "cell_type": "markdown",
      "metadata": {
        "id": "tLR5KPiV2HH4"
      },
      "source": [
        "## Control flow"
      ]
    },
    {
      "cell_type": "markdown",
      "metadata": {
        "id": "A-zaBS_C2HH6"
      },
      "source": [
        "### if / elif / else"
      ]
    },
    {
      "cell_type": "markdown",
      "metadata": {
        "id": "E7C9FGC52HH8"
      },
      "source": [
        "**Synthax**\n",
        "> if (boolean expression):\n",
        "\n",
        ">     do this if true \n",
        "\n",
        "> elif (boolean expression):\n",
        "\n",
        ">     do this if this is true and if condition is false\n",
        "\n",
        "> else:\n",
        "\n",
        ">     in all other cases\n",
        "\n",
        "**Blocks are delimited by indentation**\n",
        "\n",
        "Be careful to respect the indentation depth. The Ipython shell automatically increases the indentation depth after a column : sign; to decrease the indentation depth, go four spaces to the left with the Backspace key. Press the Enter key twice to leave the logical block."
      ]
    },
    {
      "cell_type": "raw",
      "metadata": {
        "id": "hpTwyDIS2HH_"
      },
      "source": [
        "> syntax:\n",
        "\n",
        "> if (boolean expression):\n",
        "\n",
        ">     do this if true "
      ]
    },
    {
      "cell_type": "code",
      "metadata": {
        "colab": {
          "base_uri": "https://localhost:8080/"
        },
        "id": "u3qKhp-d5qpD",
        "outputId": "e2c3f12f-0234-4ff6-f8aa-312c407825dd"
      },
      "source": [
        "an_int = int(input()) #### convertir la str en int"
      ],
      "execution_count": null,
      "outputs": [
        {
          "name": "stdout",
          "output_type": "stream",
          "text": [
            "12\n"
          ]
        }
      ]
    },
    {
      "cell_type": "code",
      "metadata": {
        "colab": {
          "base_uri": "https://localhost:8080/"
        },
        "id": "IelnPeH26WlJ",
        "outputId": "6bc2443a-5b12-4de4-83a2-ce9b5ab51eb5"
      },
      "source": [
        "an_int = input() #### saisir une valeur\n",
        "an_int = int(an_int) #### caster la valeur saisie en int"
      ],
      "execution_count": null,
      "outputs": [
        {
          "name": "stdout",
          "output_type": "stream",
          "text": [
            "5\n"
          ]
        }
      ]
    },
    {
      "cell_type": "code",
      "metadata": {
        "id": "7kppODaO6PA4"
      },
      "source": [
        "an_int2 = 17"
      ],
      "execution_count": null,
      "outputs": []
    },
    {
      "cell_type": "code",
      "metadata": {
        "colab": {
          "base_uri": "https://localhost:8080/"
        },
        "id": "Paobu1n36Aqg",
        "outputId": "770db1a3-76e4-4035-b78c-ffac41540e8c"
      },
      "source": [
        "%whos"
      ],
      "execution_count": null,
      "outputs": [
        {
          "output_type": "stream",
          "name": "stdout",
          "text": [
            "Variable   Type    Data/Info\n",
            "----------------------------\n",
            "an_int     int     5\n",
            "an_int2    int     17\n"
          ]
        }
      ]
    },
    {
      "cell_type": "code",
      "metadata": {
        "run_control": {
          "frozen": false,
          "read_only": false
        },
        "colab": {
          "base_uri": "https://localhost:8080/"
        },
        "id": "IUfdSjle2HIB",
        "outputId": "c1aec34a-30ed-467a-d8ef-e946b7899ef3"
      },
      "source": [
        "#an_int = 2\n",
        "if an_int == 1: #### Cas 1\n",
        "  print(1)\n",
        "elif an_int == 2: #### CAs 2\n",
        "  print(2)\n",
        "elif an_int ==5 :\n",
        "  print(5) #### Affichage de 5\n",
        "else:\n",
        "  print('A lot') ### Ensemble des cas"
      ],
      "execution_count": null,
      "outputs": [
        {
          "output_type": "stream",
          "name": "stdout",
          "text": [
            "5\n"
          ]
        }
      ]
    },
    {
      "cell_type": "code",
      "metadata": {
        "id": "hr1650ee8XCk"
      },
      "source": [
        "an_int = 5"
      ],
      "execution_count": null,
      "outputs": []
    },
    {
      "cell_type": "code",
      "metadata": {
        "colab": {
          "base_uri": "https://localhost:8080/"
        },
        "id": "CVSHhOly7uOd",
        "outputId": "1d883dc9-e67e-4b3b-edde-3dc3a4c192b5"
      },
      "source": [
        "#an_int = 2\n",
        "if an_int < 0: #### Cas 1\n",
        "  print(\"Négatif\")\n",
        "elif (an_int != 5) :\n",
        "  print(\"Différent de 5 et positif\") #### Affichage de 5\n",
        "else:\n",
        "  print(\"Egal à 5\")\n"
      ],
      "execution_count": null,
      "outputs": [
        {
          "output_type": "stream",
          "name": "stdout",
          "text": [
            "Egal à 5\n"
          ]
        }
      ]
    },
    {
      "cell_type": "markdown",
      "metadata": {
        "id": "V8k3FRWi2HIF"
      },
      "source": [
        "### for / range"
      ]
    },
    {
      "cell_type": "markdown",
      "metadata": {
        "id": "fWeXq-kQ2HIH"
      },
      "source": [
        "iterating can be over indices (ints) or over values"
      ]
    },
    {
      "cell_type": "code",
      "metadata": {
        "run_control": {
          "frozen": false,
          "read_only": false
        },
        "id": "qBeDNwPV2HII"
      },
      "source": [
        "for index in range(4):\n",
        "    print(index)\n",
        "\n",
        "for word in ('cool', 'powerful', 'readable'):\n",
        "    # remember string formatting?\n",
        "    print('Python is {}!'.format(word))"
      ],
      "execution_count": null,
      "outputs": []
    },
    {
      "cell_type": "markdown",
      "metadata": {
        "id": "qQtkVQxO2HIK"
      },
      "source": [
        "### while"
      ]
    },
    {
      "cell_type": "markdown",
      "metadata": {
        "id": "Aj5BNC5D2HIM"
      },
      "source": [
        "Typical C-style while loop"
      ]
    },
    {
      "cell_type": "code",
      "metadata": {
        "colab": {
          "base_uri": "https://localhost:8080/"
        },
        "id": "HmjB62QPsKlf",
        "outputId": "755094e1-ef5a-4497-eeb9-97ae1062f9e2"
      },
      "source": [
        "count = 0\n",
        "\n",
        "while (count <= 8): #### COndition d'arret de la boucle \n",
        "  print(count) #### Affiche le compteur\n",
        "  count  = count + 1 #### J'incrémente le compteur de 1"
      ],
      "execution_count": null,
      "outputs": [
        {
          "output_type": "stream",
          "name": "stdout",
          "text": [
            "0\n",
            "1\n",
            "2\n",
            "3\n",
            "4\n",
            "5\n",
            "6\n",
            "7\n",
            "8\n"
          ]
        }
      ]
    },
    {
      "cell_type": "code",
      "metadata": {
        "run_control": {
          "frozen": false,
          "read_only": false
        },
        "id": "UBKbXfjL2HIN"
      },
      "source": [
        "z = 1 + 1j\n"
      ],
      "execution_count": null,
      "outputs": []
    },
    {
      "cell_type": "code",
      "metadata": {
        "colab": {
          "base_uri": "https://localhost:8080/"
        },
        "id": "ku-ofX5xs8zH",
        "outputId": "6f774061-6313-4c3d-d127-2e4a9819781b"
      },
      "source": [
        "abs(z)"
      ],
      "execution_count": null,
      "outputs": [
        {
          "output_type": "execute_result",
          "data": {
            "text/plain": [
              "1.4142135623730951"
            ]
          },
          "metadata": {},
          "execution_count": 7
        }
      ]
    },
    {
      "cell_type": "code",
      "metadata": {
        "colab": {
          "base_uri": "https://localhost:8080/"
        },
        "id": "aCw1_VcHsqkc",
        "outputId": "7d2e7f48-b074-4eec-bab0-3011e0946b4f"
      },
      "source": [
        "# Mandelbrot problem\n",
        "while abs(z) < 100: #### Module d'un cplx racine(a**2 + b**2): Tant que le module de z est < 100\n",
        "    z = z**2 + 1 #### Opération 1: Z = Z**2 + 1\n",
        "    print(z) #### Affiche z\n",
        "    print(abs(z)) ### Affiche le module de z\n",
        "#print(z)"
      ],
      "execution_count": null,
      "outputs": [
        {
          "output_type": "stream",
          "name": "stdout",
          "text": [
            "(1+2j)\n",
            "2.23606797749979\n",
            "(-2+4j)\n",
            "4.47213595499958\n",
            "(-11-16j)\n",
            "19.4164878389476\n",
            "(-134+352j)\n",
            "376.64306710730784\n"
          ]
        }
      ]
    },
    {
      "cell_type": "code",
      "metadata": {
        "colab": {
          "base_uri": "https://localhost:8080/"
        },
        "id": "Lk1HXKA_s8IT",
        "outputId": "e0b9086e-dff9-4e69-f3b6-94ca12155d45"
      },
      "source": [
        "b = 8\n",
        "\n",
        "while b > 6:\n",
        "  print(\"Hello\")\n",
        "  b = b - 1\n",
        "  print(b)"
      ],
      "execution_count": null,
      "outputs": [
        {
          "output_type": "stream",
          "name": "stdout",
          "text": [
            "Hello\n",
            "7\n",
            "Hello\n",
            "6\n"
          ]
        }
      ]
    },
    {
      "cell_type": "markdown",
      "metadata": {
        "id": "DFKy0KQQ2HIO"
      },
      "source": [
        "### break / continue"
      ]
    },
    {
      "cell_type": "code",
      "metadata": {
        "colab": {
          "base_uri": "https://localhost:8080/"
        },
        "id": "lotllbs9uq-9",
        "outputId": "8ed248a0-2394-4017-f726-55516a7f3e8f"
      },
      "source": [
        "x = 1 + 3j\n",
        "x"
      ],
      "execution_count": null,
      "outputs": [
        {
          "output_type": "execute_result",
          "data": {
            "text/plain": [
              "(1+3j)"
            ]
          },
          "metadata": {},
          "execution_count": 12
        }
      ]
    },
    {
      "cell_type": "code",
      "metadata": {
        "colab": {
          "base_uri": "https://localhost:8080/"
        },
        "id": "kAut5Mbjuv2U",
        "outputId": "d60ad75b-3c42-470b-dd8a-e00f173198db"
      },
      "source": [
        "x.real #### Partie réelle"
      ],
      "execution_count": null,
      "outputs": [
        {
          "output_type": "execute_result",
          "data": {
            "text/plain": [
              "1.0"
            ]
          },
          "metadata": {},
          "execution_count": 13
        }
      ]
    },
    {
      "cell_type": "code",
      "metadata": {
        "colab": {
          "base_uri": "https://localhost:8080/"
        },
        "id": "Tza1ZHSAu12d",
        "outputId": "7ce0d535-73bc-42ea-ff21-9162023b49d2"
      },
      "source": [
        "x.imag ### Partie imaginaire"
      ],
      "execution_count": null,
      "outputs": [
        {
          "output_type": "execute_result",
          "data": {
            "text/plain": [
              "3.0"
            ]
          },
          "metadata": {},
          "execution_count": 14
        }
      ]
    },
    {
      "cell_type": "markdown",
      "metadata": {
        "id": "NPNdFKnM2HIP"
      },
      "source": [
        "*break* out of enclosing for/while loop"
      ]
    },
    {
      "cell_type": "code",
      "metadata": {
        "run_control": {
          "frozen": false,
          "read_only": false
        },
        "id": "YVU4Uhyt2HIQ",
        "colab": {
          "base_uri": "https://localhost:8080/"
        },
        "outputId": "db52a5ef-c182-42e3-ec3d-b7ecf486ee7c"
      },
      "source": [
        "z = 1 + 1j\n",
        "# Mandelbrot problem\n",
        "while abs(z) < 100:\n",
        "    # breaks if imaginary part is negative\n",
        "    if z.imag < 0: #### Si la partie imaginaire du nombre est négative\n",
        "        break ### Alors j'arret la boucle\n",
        "    z = z**2 + 1\n",
        "    print(z)\n",
        "    print(abs(z))\n",
        "print(z)"
      ],
      "execution_count": null,
      "outputs": [
        {
          "output_type": "stream",
          "name": "stdout",
          "text": [
            "(1+2j)\n",
            "2.23606797749979\n",
            "(-2+4j)\n",
            "4.47213595499958\n",
            "(-11-16j)\n",
            "19.4164878389476\n",
            "(-11-16j)\n"
          ]
        }
      ]
    },
    {
      "cell_type": "markdown",
      "metadata": {
        "id": "YvTDKx_d2HIR"
      },
      "source": [
        "*continue* the next iteration of a loop"
      ]
    },
    {
      "cell_type": "code",
      "metadata": {
        "run_control": {
          "frozen": false,
          "read_only": false
        },
        "id": "I3WCUJXv2HIS",
        "colab": {
          "base_uri": "https://localhost:8080/"
        },
        "outputId": "fc4051d2-dd82-432b-b1e3-43a58a07c24d"
      },
      "source": [
        "aList = [1, 0, 2, 4, 3, 6, 0, 6, 5, 0, 1]\n",
        "aList"
      ],
      "execution_count": null,
      "outputs": [
        {
          "output_type": "execute_result",
          "data": {
            "text/plain": [
              "[1, 0, 2, 4, 3, 6, 0, 6, 5, 0, 1]"
            ]
          },
          "metadata": {},
          "execution_count": 18
        }
      ]
    },
    {
      "cell_type": "code",
      "metadata": {
        "colab": {
          "base_uri": "https://localhost:8080/",
          "height": 166
        },
        "id": "9211v1GOvzJx",
        "outputId": "76400ee2-7d70-4c5a-a8d7-a35b333fded7"
      },
      "source": [
        "1/0"
      ],
      "execution_count": null,
      "outputs": [
        {
          "output_type": "error",
          "ename": "ZeroDivisionError",
          "evalue": "ignored",
          "traceback": [
            "\u001b[0;31m---------------------------------------------------------------------------\u001b[0m",
            "\u001b[0;31mZeroDivisionError\u001b[0m                         Traceback (most recent call last)",
            "\u001b[0;32m<ipython-input-19-9e1622b385b6>\u001b[0m in \u001b[0;36m<module>\u001b[0;34m()\u001b[0m\n\u001b[0;32m----> 1\u001b[0;31m \u001b[0;36m1\u001b[0m\u001b[0;34m/\u001b[0m\u001b[0;36m0\u001b[0m\u001b[0;34m\u001b[0m\u001b[0;34m\u001b[0m\u001b[0m\n\u001b[0m",
            "\u001b[0;31mZeroDivisionError\u001b[0m: division by zero"
          ]
        }
      ]
    },
    {
      "cell_type": "code",
      "metadata": {
        "colab": {
          "base_uri": "https://localhost:8080/"
        },
        "id": "r8bEChgewGbO",
        "outputId": "a05bae45-4c3a-44b1-f89e-5d1686602b88"
      },
      "source": [
        "aList"
      ],
      "execution_count": null,
      "outputs": [
        {
          "output_type": "execute_result",
          "data": {
            "text/plain": [
              "[1, 0, 2, 4, 3, 6, 0, 6, 5, 0, 1]"
            ]
          },
          "metadata": {},
          "execution_count": 22
        }
      ]
    },
    {
      "cell_type": "code",
      "metadata": {
        "colab": {
          "base_uri": "https://localhost:8080/"
        },
        "id": "qx_k091dwvMY",
        "outputId": "83545bd4-9039-4cac-c6a9-f75f983369e7"
      },
      "source": [
        "len(aList)"
      ],
      "execution_count": null,
      "outputs": [
        {
          "output_type": "execute_result",
          "data": {
            "text/plain": [
              "11"
            ]
          },
          "metadata": {},
          "execution_count": 24
        }
      ]
    },
    {
      "cell_type": "code",
      "metadata": {
        "colab": {
          "base_uri": "https://localhost:8080/"
        },
        "id": "eT4HGUmTwGna",
        "outputId": "18666d1b-ef51-48ea-9248-ad9ef399bde6"
      },
      "source": [
        "for ele in aList:\n",
        "  if ele  == 0: #### Si l'élement est nulle\n",
        "    continue ###Skip : Passer à l'élemnt d'après\n",
        "  print(1/ele) ### Afficher l'inverse"
      ],
      "execution_count": null,
      "outputs": [
        {
          "output_type": "stream",
          "name": "stdout",
          "text": [
            "1.0\n",
            "0.5\n",
            "0.25\n",
            "0.3333333333333333\n",
            "0.16666666666666666\n",
            "0.16666666666666666\n",
            "0.2\n",
            "1.0\n"
          ]
        }
      ]
    },
    {
      "cell_type": "code",
      "metadata": {
        "colab": {
          "base_uri": "https://localhost:8080/"
        },
        "id": "ztBf6Xmovnts",
        "outputId": "0b57abad-da2e-4e92-e69e-1cd8b7986f05"
      },
      "source": [
        "print('printing the inverse of the integers, excluding division by zero')\n",
        "for element in aList:\n",
        "    if element == 0:\n",
        "        continue\n",
        "    print(1. / element)"
      ],
      "execution_count": null,
      "outputs": [
        {
          "output_type": "stream",
          "name": "stdout",
          "text": [
            "printing the inverse of the integers, excluding division by zero\n",
            "1.0\n",
            "0.5\n",
            "0.25\n",
            "0.3333333333333333\n",
            "0.16666666666666666\n",
            "0.16666666666666666\n",
            "0.2\n",
            "1.0\n"
          ]
        }
      ]
    },
    {
      "cell_type": "markdown",
      "metadata": {
        "id": "GeCUMQYu2HIS"
      },
      "source": [
        "### conditional expressions"
      ]
    },
    {
      "cell_type": "markdown",
      "metadata": {
        "id": "YFB7Nwc32HIT"
      },
      "source": [
        "> if < OBJECT > :\n",
        "\n",
        "\n",
        "Evaluates to False:\n",
        "\n",
        "* any number equal to zero (0, 0.0, 0+0j)\n",
        "* an empty container (list, tuple, set, dictionary, ...)\n",
        "* False, None\n",
        "\n",
        "Evaluates to True:\n",
        "\n",
        "* everything else\n",
        "\n"
      ]
    },
    {
      "cell_type": "markdown",
      "metadata": {
        "id": "VpYV3Yn92HIU"
      },
      "source": [
        "> a == b\n",
        "\n",
        "Tests equality, with logics"
      ]
    },
    {
      "cell_type": "code",
      "metadata": {
        "run_control": {
          "frozen": false,
          "read_only": false
        },
        "id": "nw8GAX8r2HIU",
        "colab": {
          "base_uri": "https://localhost:8080/"
        },
        "outputId": "18e8a0a2-e7d4-48cd-d84f-a201c5eaed0f"
      },
      "source": [
        "1 == 1"
      ],
      "execution_count": null,
      "outputs": [
        {
          "output_type": "execute_result",
          "data": {
            "text/plain": [
              "True"
            ]
          },
          "metadata": {},
          "execution_count": 27
        }
      ]
    },
    {
      "cell_type": "markdown",
      "metadata": {
        "id": "VFubWl8V2HIV"
      },
      "source": [
        "> a is b:\n",
        "\n",
        "Tests identity: both sides are the **same object**"
      ]
    },
    {
      "cell_type": "code",
      "metadata": {
        "run_control": {
          "frozen": false,
          "read_only": false
        },
        "id": "6TfxCmV92HIV",
        "colab": {
          "base_uri": "https://localhost:8080/"
        },
        "outputId": "81fe7cd9-ef27-44c7-8328-27b4a8f1e674"
      },
      "source": [
        "print(1 is 1.)\n"
      ],
      "execution_count": null,
      "outputs": [
        {
          "output_type": "stream",
          "name": "stdout",
          "text": [
            "False\n"
          ]
        }
      ]
    },
    {
      "cell_type": "code",
      "metadata": {
        "id": "78ftdq-QxtHA"
      },
      "source": [
        ""
      ],
      "execution_count": null,
      "outputs": []
    },
    {
      "cell_type": "markdown",
      "metadata": {
        "id": "mdHZY0Ab2HIW"
      },
      "source": [
        "> a in b:\n",
        "\n",
        "For any collection b: b contains a\n",
        "\n",
        "If b is a dictionary, this tests that a is a key of b."
      ]
    },
    {
      "cell_type": "code",
      "metadata": {
        "run_control": {
          "frozen": false,
          "read_only": false
        },
        "id": "J61IHQ622HIX",
        "colab": {
          "base_uri": "https://localhost:8080/"
        },
        "outputId": "911973ce-f00e-4059-8652-7abff0d2534b"
      },
      "source": [
        "a_list = [1, 2, 3]\n",
        "2 in a_list"
      ],
      "execution_count": null,
      "outputs": [
        {
          "output_type": "execute_result",
          "data": {
            "text/plain": [
              "True"
            ]
          },
          "metadata": {},
          "execution_count": 39
        }
      ]
    },
    {
      "cell_type": "code",
      "metadata": {
        "colab": {
          "base_uri": "https://localhost:8080/"
        },
        "id": "lvNufESbyvBM",
        "outputId": "9ddaffb9-45f7-48bf-b3d4-3a1dfa680e3d"
      },
      "source": [
        "2. in a_list"
      ],
      "execution_count": null,
      "outputs": [
        {
          "output_type": "execute_result",
          "data": {
            "text/plain": [
              "True"
            ]
          },
          "metadata": {},
          "execution_count": 40
        }
      ]
    },
    {
      "cell_type": "code",
      "metadata": {
        "colab": {
          "base_uri": "https://localhost:8080/"
        },
        "id": "N85Pg4c8y3Ca",
        "outputId": "32938891-3d3b-4a11-9c25-1ba3cebf579c"
      },
      "source": [
        "2.00000000000000001 in a_list ### Au dela de 16 digit Python, considère qu'il s'gait de 2.0 --> True"
      ],
      "execution_count": null,
      "outputs": [
        {
          "output_type": "execute_result",
          "data": {
            "text/plain": [
              "True"
            ]
          },
          "metadata": {},
          "execution_count": 44
        }
      ]
    },
    {
      "cell_type": "code",
      "metadata": {
        "colab": {
          "base_uri": "https://localhost:8080/"
        },
        "id": "puQEkqr6xyIN",
        "outputId": "ca7ab1a1-278f-4b15-849b-c86249e1d6c7"
      },
      "source": [
        "[1, 2, 3] is [1, 2,3] #### Deux cases mémoires différentes"
      ],
      "execution_count": null,
      "outputs": [
        {
          "output_type": "execute_result",
          "data": {
            "text/plain": [
              "False"
            ]
          },
          "metadata": {},
          "execution_count": 45
        }
      ]
    },
    {
      "cell_type": "code",
      "metadata": {
        "colab": {
          "base_uri": "https://localhost:8080/"
        },
        "id": "g83AtGLJx4kY",
        "outputId": "e0d28c1f-8e1a-4439-f5e6-cdfab2d2bb93"
      },
      "source": [
        "[1, 2, 3] is [1, 2,3, 3]"
      ],
      "execution_count": null,
      "outputs": [
        {
          "output_type": "execute_result",
          "data": {
            "text/plain": [
              "False"
            ]
          },
          "metadata": {},
          "execution_count": 30
        }
      ]
    },
    {
      "cell_type": "code",
      "metadata": {
        "colab": {
          "base_uri": "https://localhost:8080/"
        },
        "id": "eOn218Sxx8op",
        "outputId": "f9aef304-cb57-4127-dffc-781bea124230"
      },
      "source": [
        "[1] is [1, 2,3, 3]"
      ],
      "execution_count": null,
      "outputs": [
        {
          "output_type": "execute_result",
          "data": {
            "text/plain": [
              "False"
            ]
          },
          "metadata": {},
          "execution_count": 31
        }
      ]
    },
    {
      "cell_type": "code",
      "metadata": {
        "colab": {
          "base_uri": "https://localhost:8080/"
        },
        "id": "_BYvdlpGx_SC",
        "outputId": "03ec428b-9456-4f0a-e304-e03fe8f97c9c"
      },
      "source": [
        "1 is [1, 2,3, 3]"
      ],
      "execution_count": null,
      "outputs": [
        {
          "output_type": "execute_result",
          "data": {
            "text/plain": [
              "False"
            ]
          },
          "metadata": {},
          "execution_count": 32
        }
      ]
    },
    {
      "cell_type": "code",
      "metadata": {
        "colab": {
          "base_uri": "https://localhost:8080/"
        },
        "id": "FqnApfvmyBlY",
        "outputId": "bbf334ae-2449-48ca-8203-86a36cbaf105"
      },
      "source": [
        "[\"1\", \"2\", \"3\"] is [\"1\", \"2\",\"3\"]"
      ],
      "execution_count": null,
      "outputs": [
        {
          "output_type": "execute_result",
          "data": {
            "text/plain": [
              "False"
            ]
          },
          "metadata": {},
          "execution_count": 33
        }
      ]
    },
    {
      "cell_type": "code",
      "metadata": {
        "id": "tFjIc4sRyQtQ"
      },
      "source": [
        "a = [\"1\", \"2\", \"3\"]\n",
        "b  =a\n",
        "c = [\"1\", \"2\", \"3\"]"
      ],
      "execution_count": null,
      "outputs": []
    },
    {
      "cell_type": "code",
      "metadata": {
        "colab": {
          "base_uri": "https://localhost:8080/"
        },
        "id": "1u5tTt8Rych_",
        "outputId": "7c9af26e-8972-4c3b-b5ca-08a3d2c2e770"
      },
      "source": [
        "b is a"
      ],
      "execution_count": null,
      "outputs": [
        {
          "output_type": "execute_result",
          "data": {
            "text/plain": [
              "True"
            ]
          },
          "metadata": {},
          "execution_count": 37
        }
      ]
    },
    {
      "cell_type": "code",
      "metadata": {
        "colab": {
          "base_uri": "https://localhost:8080/"
        },
        "id": "za0XfhIhylX9",
        "outputId": "60925ca4-745b-4925-a73a-7b479a260a8b"
      },
      "source": [
        "b is c"
      ],
      "execution_count": null,
      "outputs": [
        {
          "output_type": "execute_result",
          "data": {
            "text/plain": [
              "False"
            ]
          },
          "metadata": {},
          "execution_count": 38
        }
      ]
    },
    {
      "cell_type": "code",
      "metadata": {
        "colab": {
          "base_uri": "https://localhost:8080/"
        },
        "id": "B_ZCnk_Fzvbf",
        "outputId": "37d0effa-cd5b-4fc3-b39e-4b7582e655a4"
      },
      "source": [
        "a_list"
      ],
      "execution_count": null,
      "outputs": [
        {
          "output_type": "execute_result",
          "data": {
            "text/plain": [
              "[1, 2, 3]"
            ]
          },
          "metadata": {},
          "execution_count": 46
        }
      ]
    },
    {
      "cell_type": "code",
      "metadata": {
        "run_control": {
          "frozen": false,
          "read_only": false
        },
        "id": "I4bG9FPf2HIX",
        "colab": {
          "base_uri": "https://localhost:8080/"
        },
        "outputId": "46354d64-ddac-47a9-9ad5-fd25fcb79327"
      },
      "source": [
        "'ae' in a_list #### La str \"ae\" n'est pas présentes"
      ],
      "execution_count": null,
      "outputs": [
        {
          "output_type": "execute_result",
          "data": {
            "text/plain": [
              "False"
            ]
          },
          "metadata": {},
          "execution_count": 48
        }
      ]
    },
    {
      "cell_type": "code",
      "metadata": {
        "run_control": {
          "frozen": false,
          "read_only": false
        },
        "id": "zFdMKcH92HIY",
        "colab": {
          "base_uri": "https://localhost:8080/"
        },
        "outputId": "7dedbf76-d40b-4215-d641-6067133a14c8"
      },
      "source": [
        "3. in a_list"
      ],
      "execution_count": null,
      "outputs": [
        {
          "output_type": "execute_result",
          "data": {
            "text/plain": [
              "True"
            ]
          },
          "metadata": {},
          "execution_count": 49
        }
      ]
    },
    {
      "cell_type": "code",
      "metadata": {
        "run_control": {
          "frozen": false,
          "read_only": false
        },
        "id": "-cZTM7Ec2HIY",
        "colab": {
          "base_uri": "https://localhost:8080/"
        },
        "outputId": "21ca6fb6-5a4f-428c-a39a-f34159f48dbf"
      },
      "source": [
        "a_dict = {'theKey' : 'theValue'}\n",
        "'theKey' in a_dict #### Ok pour les clés"
      ],
      "execution_count": null,
      "outputs": [
        {
          "output_type": "execute_result",
          "data": {
            "text/plain": [
              "True"
            ]
          },
          "metadata": {},
          "execution_count": 50
        }
      ]
    },
    {
      "cell_type": "code",
      "metadata": {
        "run_control": {
          "frozen": false,
          "read_only": false
        },
        "id": "jVUy8y7b2HIZ",
        "colab": {
          "base_uri": "https://localhost:8080/"
        },
        "outputId": "a97d537e-f500-4983-8e71-bafcc7d624bb"
      },
      "source": [
        "'theValue' in a_dict ####"
      ],
      "execution_count": null,
      "outputs": [
        {
          "output_type": "execute_result",
          "data": {
            "text/plain": [
              "False"
            ]
          },
          "metadata": {},
          "execution_count": 51
        }
      ]
    },
    {
      "cell_type": "code",
      "metadata": {
        "id": "_agGsyke0dDu"
      },
      "source": [
        ""
      ],
      "execution_count": null,
      "outputs": []
    },
    {
      "cell_type": "code",
      "metadata": {
        "run_control": {
          "frozen": false,
          "read_only": false
        },
        "id": "glG5m_CA2HIZ"
      },
      "source": [
        "dd = {'antea': 3, 'IMDC': 2, 'arcadis': 4, 'witteveen': 5, 'grontmij': 1}"
      ],
      "execution_count": null,
      "outputs": []
    },
    {
      "cell_type": "code",
      "metadata": {
        "colab": {
          "base_uri": "https://localhost:8080/"
        },
        "id": "lVkTj2664E8N",
        "outputId": "c23aa068-27ac-4f5c-c5ec-516bf72c6c41"
      },
      "source": [
        "dd[\"witteveen\"]"
      ],
      "execution_count": null,
      "outputs": [
        {
          "output_type": "execute_result",
          "data": {
            "text/plain": [
              "5"
            ]
          },
          "metadata": {},
          "execution_count": 61
        }
      ]
    },
    {
      "cell_type": "code",
      "metadata": {
        "colab": {
          "base_uri": "https://localhost:8080/"
        },
        "id": "32Jvh4Te3-j1",
        "outputId": "3c0804e0-c7b1-4564-99de-98c7ae2ec1ce"
      },
      "source": [
        "dd[\"antea\"]"
      ],
      "execution_count": null,
      "outputs": [
        {
          "output_type": "execute_result",
          "data": {
            "text/plain": [
              "3"
            ]
          },
          "metadata": {},
          "execution_count": 59
        }
      ]
    },
    {
      "cell_type": "code",
      "metadata": {
        "colab": {
          "base_uri": "https://localhost:8080/",
          "height": 166
        },
        "id": "Y_PDoYxO4IjJ",
        "outputId": "86d074ea-bf5c-4424-e6b9-369e3f0cb266"
      },
      "source": [
        "dd[1:]"
      ],
      "execution_count": null,
      "outputs": [
        {
          "output_type": "error",
          "ename": "TypeError",
          "evalue": "ignored",
          "traceback": [
            "\u001b[0;31m---------------------------------------------------------------------------\u001b[0m",
            "\u001b[0;31mTypeError\u001b[0m                                 Traceback (most recent call last)",
            "\u001b[0;32m<ipython-input-63-45f856b3ac9f>\u001b[0m in \u001b[0;36m<module>\u001b[0;34m()\u001b[0m\n\u001b[0;32m----> 1\u001b[0;31m \u001b[0mdd\u001b[0m\u001b[0;34m[\u001b[0m\u001b[0;36m1\u001b[0m\u001b[0;34m:\u001b[0m\u001b[0;34m]\u001b[0m\u001b[0;34m\u001b[0m\u001b[0;34m\u001b[0m\u001b[0m\n\u001b[0m",
            "\u001b[0;31mTypeError\u001b[0m: unhashable type: 'slice'"
          ]
        }
      ]
    },
    {
      "cell_type": "code",
      "metadata": {
        "colab": {
          "base_uri": "https://localhost:8080/"
        },
        "id": "WzslGm3h4B5y",
        "outputId": "6dc270d8-57ad-44bc-fc09-f15b95f95f0a"
      },
      "source": [
        "dd[\"IMDC\"]"
      ],
      "execution_count": null,
      "outputs": [
        {
          "output_type": "execute_result",
          "data": {
            "text/plain": [
              "2"
            ]
          },
          "metadata": {},
          "execution_count": 60
        }
      ]
    },
    {
      "cell_type": "code",
      "metadata": {
        "colab": {
          "base_uri": "https://localhost:8080/"
        },
        "id": "DkvW3HKE43m1",
        "outputId": "8fd7e9ac-a39a-424c-b708-fbc5a960cbf1"
      },
      "source": [
        "dd"
      ],
      "execution_count": null,
      "outputs": [
        {
          "output_type": "execute_result",
          "data": {
            "text/plain": [
              "{'IMDC': 2, 'antea': 3, 'arcadis': 4, 'grontmij': 1, 'witteveen': 5}"
            ]
          },
          "metadata": {},
          "execution_count": 65
        }
      ]
    },
    {
      "cell_type": "markdown",
      "metadata": {
        "id": "_KntS1iU2HIa"
      },
      "source": [
        "<div class=\"alert alert-success\">\n",
        "    <b>EXERCISE</b>: Return the key of an item in the dictionary `dd` if the value is provided (assume that the user is always providing a value that is part of the dictionary and all values only occur once). Make sure the returned key is formatted as capitals and use `value=3` to test:\n",
        "</div>"
      ]
    },
    {
      "cell_type": "code",
      "metadata": {
        "colab": {
          "base_uri": "https://localhost:8080/"
        },
        "id": "_Cpzrv5t5lLL",
        "outputId": "af890b03-c08c-46e5-86cb-4f8235515b47"
      },
      "source": [
        "value=int(input(\"Veuillez saisir un entier: \"))"
      ],
      "execution_count": null,
      "outputs": [
        {
          "name": "stdout",
          "output_type": "stream",
          "text": [
            "Veuillez saisir un entier: 1\n"
          ]
        }
      ]
    },
    {
      "cell_type": "code",
      "metadata": {
        "colab": {
          "base_uri": "https://localhost:8080/"
        },
        "id": "1r7PBT064hCH",
        "outputId": "f45bd418-4cb4-4846-a403-8c07e75ead67"
      },
      "source": [
        "#### POur chaque ele de l'objet dicitionnaire ie pour chaque clé\n",
        "\n",
        "c = []\n",
        "\n",
        "for ele in dd:\n",
        "  #print(ele) #### J'affiche les clés\n",
        "  #print(dd[ele]) #### J'affiche l'ensemble des valeurs\n",
        "  ### Si la valeur de la clé du dictionnaire est égale à value\n",
        "  if (dd[ele] == value):\n",
        "  ### Alors je récupère la clé et la passe  en  majuscule\n",
        "    print(ele.upper())\n",
        "    c.append(ele.upper())\n"
      ],
      "execution_count": null,
      "outputs": [
        {
          "output_type": "stream",
          "name": "stdout",
          "text": [
            "GRONTMIJ\n"
          ]
        }
      ]
    },
    {
      "cell_type": "code",
      "metadata": {
        "colab": {
          "base_uri": "https://localhost:8080/"
        },
        "id": "LyaqQlIg4i5D",
        "outputId": "b92775b1-9ad6-49f1-d980-d1f457ca4e8c"
      },
      "source": [
        "c"
      ],
      "execution_count": null,
      "outputs": [
        {
          "output_type": "execute_result",
          "data": {
            "text/plain": [
              "['GRONTMIJ']"
            ]
          },
          "metadata": {},
          "execution_count": 84
        }
      ]
    },
    {
      "cell_type": "code",
      "metadata": {
        "id": "A7GcUVWu3qt3"
      },
      "source": [
        "# for ele in dd:\n",
        "#   print(ele) #### ensemble des clés\n",
        "#   print(dd[ele]) ### Ensemble des values"
      ],
      "execution_count": null,
      "outputs": []
    },
    {
      "cell_type": "code",
      "metadata": {
        "id": "aSHK452s0wM_"
      },
      "source": [
        "# dd.values()"
      ],
      "execution_count": null,
      "outputs": []
    },
    {
      "cell_type": "code",
      "metadata": {
        "id": "qDkOXvQl0ecj"
      },
      "source": [
        "# type(dd.values())"
      ],
      "execution_count": null,
      "outputs": []
    },
    {
      "cell_type": "code",
      "metadata": {
        "id": "aE9EHc3d0hWg"
      },
      "source": [
        "# 3 in dd.values()"
      ],
      "execution_count": null,
      "outputs": []
    },
    {
      "cell_type": "code",
      "metadata": {
        "id": "OoKFTi8A2HIa"
      },
      "source": [
        "# value = 2"
      ],
      "execution_count": null,
      "outputs": []
    },
    {
      "cell_type": "markdown",
      "metadata": {
        "id": "j5hThZk52HId"
      },
      "source": [
        "<div class=\"alert alert-success\">\n",
        "    <b>EXERCISE</b>: Given the dictionary `dd`, check if a key is already existing in the dictionary and print a message `already in dictionary`. Use 'antea' as string to check for.\n",
        "</div>"
      ]
    },
    {
      "cell_type": "code",
      "metadata": {
        "id": "DLh69oVc2HIf",
        "colab": {
          "base_uri": "https://localhost:8080/"
        },
        "outputId": "a08f575c-03dd-42d1-96c0-611c516207ae"
      },
      "source": [
        "dd"
      ],
      "execution_count": null,
      "outputs": [
        {
          "output_type": "execute_result",
          "data": {
            "text/plain": [
              "{'IMDC': 2, 'antea': 3, 'arcadis': 4, 'grontmij': 1, 'witteveen': 5}"
            ]
          },
          "metadata": {},
          "execution_count": 93
        }
      ]
    },
    {
      "cell_type": "code",
      "metadata": {
        "colab": {
          "base_uri": "https://localhost:8080/"
        },
        "id": "H8Hkfm0MDSVz",
        "outputId": "3161b8ed-7279-425c-f583-6c73a1ac7e28"
      },
      "source": [
        "\"antea\" in dd"
      ],
      "execution_count": null,
      "outputs": [
        {
          "output_type": "execute_result",
          "data": {
            "text/plain": [
              "True"
            ]
          },
          "metadata": {},
          "execution_count": 94
        }
      ]
    },
    {
      "cell_type": "code",
      "metadata": {
        "colab": {
          "base_uri": "https://localhost:8080/"
        },
        "id": "PUtz9Ae3DVco",
        "outputId": "ba8bef71-c0df-489c-c8dc-fb2fac1471b7"
      },
      "source": [
        "if \"antea\" in dd:\n",
        "  print(\"In the dictionnary\")\n",
        "else:\n",
        "  print(\"Not in the dictionnary\")"
      ],
      "execution_count": null,
      "outputs": [
        {
          "output_type": "stream",
          "name": "stdout",
          "text": [
            "In the dictionnary\n"
          ]
        }
      ]
    },
    {
      "cell_type": "code",
      "metadata": {
        "colab": {
          "base_uri": "https://localhost:8080/"
        },
        "id": "MtdaMok9Dgns",
        "outputId": "368a0093-46f3-4ada-e183-5e08731cd688"
      },
      "source": [
        "cle  = input() #### Saisir une clé\n",
        "\n",
        "if cle in dd:  #### Si la clé sasie est dans le dictionnaire\n",
        "  print(\"In the dictionnary\")\n",
        "else: #### Sinon\n",
        "  print(\"Not in the dictionnary\")"
      ],
      "execution_count": null,
      "outputs": [
        {
          "output_type": "stream",
          "name": "stdout",
          "text": [
            "antea\n",
            "In the dictionnary\n"
          ]
        }
      ]
    },
    {
      "cell_type": "markdown",
      "metadata": {
        "id": "HOiTciYx2HIg"
      },
      "source": [
        "------------------------"
      ]
    },
    {
      "cell_type": "markdown",
      "metadata": {
        "id": "7wOPDzgl2HIg"
      },
      "source": [
        "## Advanced iteration"
      ]
    },
    {
      "cell_type": "markdown",
      "metadata": {
        "id": "jbPWv8rw2HIh"
      },
      "source": [
        "#### Iterate over any sequence"
      ]
    },
    {
      "cell_type": "markdown",
      "metadata": {
        "id": "OkKfNgTq2HIh"
      },
      "source": [
        "You can iterate over any sequence (string, list, keys in a dictionary, lines in a file, ...)"
      ]
    },
    {
      "cell_type": "code",
      "metadata": {
        "run_control": {
          "frozen": false,
          "read_only": false
        },
        "id": "FzusL0_T2HIi",
        "colab": {
          "base_uri": "https://localhost:8080/",
          "height": 35
        },
        "outputId": "cca2c054-4300-4c81-9f38-ab3e5f6fe571"
      },
      "source": [
        "vowels = 'aeiouy'\n",
        "vowels"
      ],
      "execution_count": null,
      "outputs": [
        {
          "output_type": "execute_result",
          "data": {
            "application/vnd.google.colaboratory.intrinsic+json": {
              "type": "string"
            },
            "text/plain": [
              "'aeiouy'"
            ]
          },
          "metadata": {},
          "execution_count": 99
        }
      ]
    },
    {
      "cell_type": "code",
      "metadata": {
        "colab": {
          "base_uri": "https://localhost:8080/"
        },
        "id": "4g44EEHjEEbx",
        "outputId": "637e6d2d-8b90-4ab4-ed14-ba297ea09372"
      },
      "source": [
        "for i in 'powerful': #### POur chaque élemnt de powerful\n",
        "    if i in vowels: #### SI l'élement est dans voyelles\n",
        "        print(i) ### J'affiche l'élément"
      ],
      "execution_count": null,
      "outputs": [
        {
          "output_type": "stream",
          "name": "stdout",
          "text": [
            "o\n",
            "e\n",
            "u\n"
          ]
        }
      ]
    },
    {
      "cell_type": "code",
      "metadata": {
        "run_control": {
          "frozen": false,
          "read_only": false
        },
        "id": "ijzMHksK2HIi",
        "colab": {
          "base_uri": "https://localhost:8080/"
        },
        "outputId": "724a8832-c2ca-4c2c-8a45-e3c5b4fe222a"
      },
      "source": [
        "message = \"Hello how are you?\"\n",
        "message.split() # returns a list\n",
        "  "
      ],
      "execution_count": null,
      "outputs": [
        {
          "output_type": "execute_result",
          "data": {
            "text/plain": [
              "['Hello', 'how', 'are', 'you?']"
            ]
          },
          "metadata": {},
          "execution_count": 101
        }
      ]
    },
    {
      "cell_type": "code",
      "metadata": {
        "colab": {
          "base_uri": "https://localhost:8080/",
          "height": 35
        },
        "id": "8IV2IwA9Eq5w",
        "outputId": "dbd366d8-dc40-4027-ae08-c0b3be0306f8"
      },
      "source": [
        "message_ = \"Hello_how_are_you?\"\n",
        "message_"
      ],
      "execution_count": null,
      "outputs": [
        {
          "output_type": "execute_result",
          "data": {
            "application/vnd.google.colaboratory.intrinsic+json": {
              "type": "string"
            },
            "text/plain": [
              "'Hello_how_are_you?'"
            ]
          },
          "metadata": {},
          "execution_count": 103
        }
      ]
    },
    {
      "cell_type": "code",
      "metadata": {
        "colab": {
          "base_uri": "https://localhost:8080/"
        },
        "id": "to35wnEOExA0",
        "outputId": "b392f3dd-5c19-4b5f-b3ed-ca4fb32b3192"
      },
      "source": [
        "message_.split(\"_\") #### Séparer les mots par rapport à \"_\""
      ],
      "execution_count": null,
      "outputs": [
        {
          "output_type": "execute_result",
          "data": {
            "text/plain": [
              "['Hello', 'how', 'are', 'you?']"
            ]
          },
          "metadata": {},
          "execution_count": 104
        }
      ]
    },
    {
      "cell_type": "code",
      "metadata": {
        "colab": {
          "base_uri": "https://localhost:8080/"
        },
        "id": "nIBTGQDIEhEj",
        "outputId": "ec2fc3be-5e7f-46ed-e734-d153d7d7c824"
      },
      "source": [
        "for word in message.split(\"_\"): #### POur chaque élement de la liste message.split(\"_\")\n",
        "    print(word)  #### J'affiche l'élement"
      ],
      "execution_count": null,
      "outputs": [
        {
          "output_type": "stream",
          "name": "stdout",
          "text": [
            "Hello\n",
            "how\n",
            "are\n",
            "you?\n"
          ]
        }
      ]
    },
    {
      "cell_type": "markdown",
      "metadata": {
        "id": "fu8x_yQ82HIj"
      },
      "source": [
        "Few languages (in particular, languages for scientific computing) allow to loop over anything but integers/indices. With Python it is possible to loop exactly over the objects of interest without bothering with indices you often don’t care about. This feature can often be used to make code more readable."
      ]
    },
    {
      "cell_type": "markdown",
      "metadata": {
        "id": "KzaW3zPc2HIk"
      },
      "source": [
        "#### Keeping track of enumeration number"
      ]
    },
    {
      "cell_type": "markdown",
      "metadata": {
        "id": "boCUhfxf2HIl"
      },
      "source": [
        "Common task is to iterate over a sequence while keeping track of the item number.\n",
        "* Could use while loop with a counter as above. Or a for loop:"
      ]
    },
    {
      "cell_type": "code",
      "metadata": {
        "colab": {
          "base_uri": "https://localhost:8080/"
        },
        "id": "VtT1Muy7FWJs",
        "outputId": "ad091b98-bca4-4b88-da4e-e5822dcd2345"
      },
      "source": [
        "words = ('cool', 'powerful', 'readable')\n",
        "words"
      ],
      "execution_count": null,
      "outputs": [
        {
          "output_type": "execute_result",
          "data": {
            "text/plain": [
              "('cool', 'powerful', 'readable')"
            ]
          },
          "metadata": {},
          "execution_count": 108
        }
      ]
    },
    {
      "cell_type": "code",
      "metadata": {
        "run_control": {
          "frozen": false,
          "read_only": false
        },
        "id": "enFc9XYi2HIl",
        "colab": {
          "base_uri": "https://localhost:8080/"
        },
        "outputId": "4e4480cb-46e9-43df-dd67-fda21ec5ab03"
      },
      "source": [
        "for i in range(0, len(words)):\n",
        "    print(i, words[i])\n",
        "    print(\"Python is {}\".format(words[i]))"
      ],
      "execution_count": null,
      "outputs": [
        {
          "output_type": "stream",
          "name": "stdout",
          "text": [
            "0 cool\n",
            "Python is cool\n",
            "1 powerful\n",
            "Python is powerful\n",
            "2 readable\n",
            "Python is readable\n"
          ]
        }
      ]
    },
    {
      "cell_type": "markdown",
      "metadata": {
        "id": "CXP7shsj2HIl"
      },
      "source": [
        "* But, Python provides enumerate keyword for this:"
      ]
    },
    {
      "cell_type": "code",
      "metadata": {
        "run_control": {
          "frozen": false,
          "read_only": false
        },
        "id": "9WJDTgJ52HIm",
        "colab": {
          "base_uri": "https://localhost:8080/"
        },
        "outputId": "145e10e1-4563-40d3-d0b2-867b594dec42"
      },
      "source": [
        "for index, item in enumerate(words): #### POur chaque index et valeur du tuple\n",
        "    print(index, item) #### J'affiche l'index et la valeur"
      ],
      "execution_count": null,
      "outputs": [
        {
          "output_type": "stream",
          "name": "stdout",
          "text": [
            "0 cool\n",
            "1 powerful\n",
            "2 readable\n"
          ]
        }
      ]
    },
    {
      "cell_type": "markdown",
      "metadata": {
        "id": "3745eNlC2HIm"
      },
      "source": [
        "Or combine elements of two containers:"
      ]
    },
    {
      "cell_type": "code",
      "metadata": {
        "colab": {
          "base_uri": "https://localhost:8080/"
        },
        "id": "xV80D_5lGFyL",
        "outputId": "3120e1e0-f30e-434a-8805-0a8b966b407e"
      },
      "source": [
        "words"
      ],
      "execution_count": null,
      "outputs": [
        {
          "output_type": "execute_result",
          "data": {
            "text/plain": [
              "('cool', 'powerful', 'readable')"
            ]
          },
          "metadata": {},
          "execution_count": 113
        }
      ]
    },
    {
      "cell_type": "code",
      "metadata": {
        "run_control": {
          "frozen": false,
          "read_only": false
        },
        "id": "weTYHe-t2HIn",
        "colab": {
          "base_uri": "https://localhost:8080/"
        },
        "outputId": "6d0610ca-f185-4e40-ca07-ff5cd48c35e6"
      },
      "source": [
        "tea = 'tea'\n",
        "for word, letter in zip(words, tea):\n",
        "    print(word, letter) ### Afficher la combinaison d'un  élement d'un tuple avec une lettre"
      ],
      "execution_count": null,
      "outputs": [
        {
          "output_type": "stream",
          "name": "stdout",
          "text": [
            "cool t\n",
            "powerful e\n",
            "readable a\n"
          ]
        }
      ]
    },
    {
      "cell_type": "markdown",
      "metadata": {
        "id": "45da5T1P2HIn"
      },
      "source": [
        "This can be extended with more iterating options (check the itertools! http://pymotw.com/2/itertools/ !)"
      ]
    },
    {
      "cell_type": "markdown",
      "metadata": {
        "id": "I0ThtTI_2HIn"
      },
      "source": [
        "#### Looping over dictionary"
      ]
    },
    {
      "cell_type": "markdown",
      "metadata": {
        "id": "rcXrIsUF2HIo"
      },
      "source": [
        "use **items()**"
      ]
    },
    {
      "cell_type": "code",
      "metadata": {
        "run_control": {
          "frozen": false,
          "read_only": false
        },
        "id": "9IxqjJAB2HIo",
        "colab": {
          "base_uri": "https://localhost:8080/"
        },
        "outputId": "84b90011-31d4-4e25-f1d6-4bd8bcba6cfe"
      },
      "source": [
        "a_dict = {'One': 1, 'Two':2, 'Three':3}\n",
        "for key, val in a_dict.items(): #### Pour chaque clé et valeur du dictionnaire\n",
        "    print('Key: {} has value: {}'.format(key, val))"
      ],
      "execution_count": null,
      "outputs": [
        {
          "output_type": "stream",
          "name": "stdout",
          "text": [
            "Key: One has value: 1\n",
            "Key: Two has value: 2\n",
            "Key: Three has value: 3\n"
          ]
        }
      ]
    },
    {
      "cell_type": "code",
      "metadata": {
        "run_control": {
          "frozen": false,
          "read_only": false
        },
        "id": "HXak6huO2HIo",
        "colab": {
          "base_uri": "https://localhost:8080/"
        },
        "outputId": "3673f9c5-d992-4742-9f0f-09053ded4616"
      },
      "source": [
        "for key in a_dict.keys():\n",
        "    print('Key: {}'.format(key))"
      ],
      "execution_count": null,
      "outputs": [
        {
          "output_type": "stream",
          "name": "stdout",
          "text": [
            "Key: One\n",
            "Key: Two\n",
            "Key: Three\n"
          ]
        }
      ]
    },
    {
      "cell_type": "markdown",
      "metadata": {
        "id": "W7B7f6Kl2HIp"
      },
      "source": [
        "<div class=\"alert alert-success\">\n",
        "    <b>EXERCISE</b>: Write code that accepts a sentence and calculate the number of letters and digits.<br>\n",
        " \n",
        "Suppose the following input is supplied to the program:<br><br>\n",
        "\n",
        "    \"hello world! 123\"\n",
        "    \n",
        "Then, the output should be:\n",
        "\n",
        "    LETTERS 10<br>\n",
        "    DIGITS 3<br><br>\n",
        "    \n",
        "and store the number of letters and digits in a dictionary d={\"DIGITS\": #digits, \"LETTERS\": #letters}\n",
        "</div>\n"
      ]
    },
    {
      "cell_type": "code",
      "metadata": {
        "id": "1h9iATH1LSg6"
      },
      "source": [
        "d={\"DIGITS\": 0, \"LETTERS\": 0, \"OTHERS\": 0}"
      ],
      "execution_count": null,
      "outputs": []
    },
    {
      "cell_type": "code",
      "metadata": {
        "id": "eC5CIU-dPwKH"
      },
      "source": [
        "#### POur une str définie\n",
        "\n",
        "#### POur chaque élement de la str\n",
        "#### Cas 1: SI le caractère est un digit\n",
        "#### J'incrémente de 1 la valeur de la clé digit\n",
        "\n",
        "### Cas 2: SI le caractère est un alpha (lettre)\n",
        "#### J'incrémente de 1 la valeur de la clé Letters\n",
        "\n",
        "#### Cas 3: Je passe à l'élemen suivant\n",
        "\n"
      ],
      "execution_count": null,
      "outputs": []
    },
    {
      "cell_type": "code",
      "metadata": {
        "colab": {
          "base_uri": "https://localhost:8080/"
        },
        "id": "2LjyJ1TWQ1vT",
        "outputId": "fbcfa6b1-7458-49c3-8782-f358bd5ad106"
      },
      "source": [
        "d"
      ],
      "execution_count": null,
      "outputs": [
        {
          "output_type": "execute_result",
          "data": {
            "text/plain": [
              "{'DIGITS': 0, 'LETTERS': 0, 'OTHERS': 0}"
            ]
          },
          "metadata": {},
          "execution_count": 130
        }
      ]
    },
    {
      "cell_type": "code",
      "metadata": {
        "id": "Ljxp-I4mQPeN"
      },
      "source": [
        "#### POur une str définie\n",
        "\n",
        "sentence = \"hello world! 123\"\n",
        "sentence\n",
        "#### POur chaque élement de la str\n",
        "for ele in sentence:\n",
        "#### Cas 1: SI le caractère est un digit\n",
        "  if (ele.isdigit()):\n",
        "#### J'incrémente de 1 la valeur de la clé digit\n",
        "    d[\"DIGITS\"] = d[\"DIGITS\"] + 1\n",
        "### Cas 2: SI le caractère est un alpha (lettre)\n",
        "  elif (ele.isalpha()):\n",
        "#### J'incrémente de 1 la valeur de la clé Letters\n",
        "   d[\"LETTERS\"] = d[\"LETTERS\"] + 1\n",
        "#### Cas 3: Je passe à l'élemen suivant\n",
        "  else:\n",
        "    d[\"OTHERS\"] = d[\"OTHERS\"] + 1\n",
        " "
      ],
      "execution_count": null,
      "outputs": []
    },
    {
      "cell_type": "code",
      "metadata": {
        "colab": {
          "base_uri": "https://localhost:8080/"
        },
        "id": "17f81M5GRY_S",
        "outputId": "51cf197d-8951-40f2-8b3a-a7d81b3081ac"
      },
      "source": [
        "print(d)"
      ],
      "execution_count": null,
      "outputs": [
        {
          "output_type": "stream",
          "name": "stdout",
          "text": [
            "{'DIGITS': 3, 'LETTERS': 10, 'OTHERS': 3}\n"
          ]
        }
      ]
    },
    {
      "cell_type": "code",
      "metadata": {
        "id": "PfLBfgmj2HIp",
        "colab": {
          "base_uri": "https://localhost:8080/"
        },
        "outputId": "d5905a4e-a830-4c24-ea30-4216996ece68"
      },
      "source": [
        "\"0\".isdigit()"
      ],
      "execution_count": null,
      "outputs": [
        {
          "output_type": "execute_result",
          "data": {
            "text/plain": [
              "True"
            ]
          },
          "metadata": {},
          "execution_count": 85
        }
      ]
    },
    {
      "cell_type": "code",
      "metadata": {
        "colab": {
          "base_uri": "https://localhost:8080/"
        },
        "id": "DZEPNpHO_dE4",
        "outputId": "82bfde36-7e67-4a80-947d-7cc5ad3723fd"
      },
      "source": [
        "\"a\".isdigit()"
      ],
      "execution_count": null,
      "outputs": [
        {
          "output_type": "execute_result",
          "data": {
            "text/plain": [
              "False"
            ]
          },
          "metadata": {},
          "execution_count": 86
        }
      ]
    },
    {
      "cell_type": "code",
      "metadata": {
        "colab": {
          "base_uri": "https://localhost:8080/"
        },
        "id": "ctEBEeiN_fOH",
        "outputId": "678b4c6b-c993-475f-b01c-0999f787db03"
      },
      "source": [
        "\"a\".isalpha()"
      ],
      "execution_count": null,
      "outputs": [
        {
          "output_type": "execute_result",
          "data": {
            "text/plain": [
              "True"
            ]
          },
          "metadata": {},
          "execution_count": 87
        }
      ]
    },
    {
      "cell_type": "code",
      "metadata": {
        "colab": {
          "base_uri": "https://localhost:8080/"
        },
        "id": "HUcO9Db3_jrb",
        "outputId": "15b3404c-c300-47f5-a339-93e177b55c1e"
      },
      "source": [
        "\"0\".isalpha()"
      ],
      "execution_count": null,
      "outputs": [
        {
          "output_type": "execute_result",
          "data": {
            "text/plain": [
              "False"
            ]
          },
          "metadata": {},
          "execution_count": 88
        }
      ]
    },
    {
      "cell_type": "markdown",
      "metadata": {
        "id": "snIJwAxQ2HIp"
      },
      "source": [
        "---------------------"
      ]
    },
    {
      "cell_type": "markdown",
      "metadata": {
        "collapsed": true,
        "id": "t89o3zPN2HIq"
      },
      "source": [
        "## Exception handling"
      ]
    },
    {
      "cell_type": "markdown",
      "metadata": {
        "collapsed": true,
        "id": "xmxV45Xi2HIq"
      },
      "source": [
        "Exceptions are raised by errors in Python:"
      ]
    },
    {
      "cell_type": "code",
      "metadata": {
        "run_control": {
          "frozen": false,
          "read_only": false
        },
        "id": "kmQ6Utwk2HIq"
      },
      "source": [
        "# 1/0 # uncomment this cell"
      ],
      "execution_count": null,
      "outputs": []
    },
    {
      "cell_type": "code",
      "metadata": {
        "run_control": {
          "frozen": false,
          "read_only": false
        },
        "id": "Jp2oAbJU2HIr"
      },
      "source": [
        "## uncomment the following lines in this cell\n",
        "#d = {1:1, 2:2}  \n",
        "#d[3]"
      ],
      "execution_count": null,
      "outputs": []
    },
    {
      "cell_type": "code",
      "metadata": {
        "run_control": {
          "frozen": false,
          "read_only": false
        },
        "id": "VIHCUTn22HIs"
      },
      "source": [
        "## uncomment the following lines in this cell\n",
        "#l = [1, 2, 3]\n",
        "#l.foobar"
      ],
      "execution_count": null,
      "outputs": []
    },
    {
      "cell_type": "markdown",
      "metadata": {
        "collapsed": true,
        "id": "I4kTHV7n2HIt"
      },
      "source": [
        "As you can see, there are **different types of exceptions** for different errors."
      ]
    },
    {
      "cell_type": "markdown",
      "metadata": {
        "id": "ATG1xIug2HIu"
      },
      "source": [
        "### raise Exception"
      ]
    },
    {
      "cell_type": "code",
      "metadata": {
        "colab": {
          "base_uri": "https://localhost:8080/"
        },
        "id": "9bHD2q2lUn9-",
        "outputId": "188149f4-37a6-4366-f503-6076748ea9d5"
      },
      "source": [
        " isinstance(\"hello\", str)"
      ],
      "execution_count": null,
      "outputs": [
        {
          "output_type": "execute_result",
          "data": {
            "text/plain": [
              "True"
            ]
          },
          "metadata": {},
          "execution_count": 4
        }
      ]
    },
    {
      "cell_type": "code",
      "metadata": {
        "colab": {
          "base_uri": "https://localhost:8080/"
        },
        "id": "TzQlTRd9UtUs",
        "outputId": "4c1a5a9f-f48a-42da-c9f9-6998aafe44c4"
      },
      "source": [
        " isinstance(\"hello\", int) #### \"helo ? int --> oui/non\""
      ],
      "execution_count": null,
      "outputs": [
        {
          "output_type": "execute_result",
          "data": {
            "text/plain": [
              "False"
            ]
          },
          "metadata": {},
          "execution_count": 5
        }
      ]
    },
    {
      "cell_type": "code",
      "metadata": {
        "run_control": {
          "frozen": false,
          "read_only": false
        },
        "id": "fTD17Gpx2HIu",
        "colab": {
          "base_uri": "https://localhost:8080/",
          "height": 203
        },
        "outputId": "64b610ff-217c-4872-a288-687c4c2dfc55"
      },
      "source": [
        "k = 'a_string'   # test yourself with integer value, e.g. 3\n",
        "if  isinstance(k, str):\n",
        "    raise Exception('Provide a string as input!')"
      ],
      "execution_count": null,
      "outputs": [
        {
          "output_type": "error",
          "ename": "Exception",
          "evalue": "ignored",
          "traceback": [
            "\u001b[0;31m---------------------------------------------------------------------------\u001b[0m",
            "\u001b[0;31mException\u001b[0m                                 Traceback (most recent call last)",
            "\u001b[0;32m<ipython-input-3-9519338b8d97>\u001b[0m in \u001b[0;36m<module>\u001b[0;34m()\u001b[0m\n\u001b[1;32m      1\u001b[0m \u001b[0mk\u001b[0m \u001b[0;34m=\u001b[0m \u001b[0;34m'a_string'\u001b[0m   \u001b[0;31m# test yourself with integer value, e.g. 3\u001b[0m\u001b[0;34m\u001b[0m\u001b[0;34m\u001b[0m\u001b[0m\n\u001b[1;32m      2\u001b[0m \u001b[0;32mif\u001b[0m  \u001b[0misinstance\u001b[0m\u001b[0;34m(\u001b[0m\u001b[0mk\u001b[0m\u001b[0;34m,\u001b[0m \u001b[0mstr\u001b[0m\u001b[0;34m)\u001b[0m\u001b[0;34m:\u001b[0m\u001b[0;34m\u001b[0m\u001b[0;34m\u001b[0m\u001b[0m\n\u001b[0;32m----> 3\u001b[0;31m     \u001b[0;32mraise\u001b[0m \u001b[0mException\u001b[0m\u001b[0;34m(\u001b[0m\u001b[0;34m'Provide a string as input!'\u001b[0m\u001b[0;34m)\u001b[0m\u001b[0;34m\u001b[0m\u001b[0;34m\u001b[0m\u001b[0m\n\u001b[0m",
            "\u001b[0;31mException\u001b[0m: Provide a string as input!"
          ]
        }
      ]
    },
    {
      "cell_type": "code",
      "metadata": {
        "id": "ooCA5eyEVe2R"
      },
      "source": [
        "##### Variante du code 2 --> Ajout du dictionnaire\n",
        "\n",
        "\n",
        "def in_dico_(dico, cle, valeur):\n",
        "  ### CAs 1: Si la clé est dans le dictionnaire alors \n",
        "  #### Afficher un print (In the dictionnary)\n",
        "  if (cle in dico):\n",
        "    raise Exception(\"In the dictionnary\")\n",
        "  #### Cas 2: Si la clé n'est pas dans le dictionnaire, \n",
        "  ##### Afficher a clé n'est pas dans le dictionaire\n",
        "  else:\n",
        "    dico[cle] = valeur #### AJout de la clé et de la valeur à dd\n",
        "    print(\"Not in the dictionary\")\n",
        "    print(dd) #### Afficher le dicionnaire"
      ],
      "execution_count": null,
      "outputs": []
    },
    {
      "cell_type": "code",
      "metadata": {
        "colab": {
          "base_uri": "https://localhost:8080/",
          "height": 167
        },
        "id": "sxgNyIaYVmDX",
        "outputId": "9e13361e-473b-4eed-ea47-c94c0e20df0f"
      },
      "source": [
        "in_dico_(dd,\"hello\", 3)"
      ],
      "execution_count": null,
      "outputs": [
        {
          "output_type": "error",
          "ename": "NameError",
          "evalue": "ignored",
          "traceback": [
            "\u001b[0;31m---------------------------------------------------------------------------\u001b[0m",
            "\u001b[0;31mNameError\u001b[0m                                 Traceback (most recent call last)",
            "\u001b[0;32m<ipython-input-7-5044efdfcb57>\u001b[0m in \u001b[0;36m<module>\u001b[0;34m()\u001b[0m\n\u001b[0;32m----> 1\u001b[0;31m \u001b[0min_dico_\u001b[0m\u001b[0;34m(\u001b[0m\u001b[0mdd\u001b[0m\u001b[0;34m,\u001b[0m\u001b[0;34m\"hello\"\u001b[0m\u001b[0;34m,\u001b[0m \u001b[0;36m3\u001b[0m\u001b[0;34m)\u001b[0m\u001b[0;34m\u001b[0m\u001b[0;34m\u001b[0m\u001b[0m\n\u001b[0m",
            "\u001b[0;31mNameError\u001b[0m: name 'dd' is not defined"
          ]
        }
      ]
    },
    {
      "cell_type": "markdown",
      "metadata": {
        "id": "SQj9bCmA2HIv"
      },
      "source": [
        "You can also be more precise about the type of error, eg. TypeError. A list of default provided exceptions is given here: https://docs.python.org/2/library/exceptions.html"
      ]
    },
    {
      "cell_type": "markdown",
      "metadata": {
        "id": "kBcovLdX2HIv"
      },
      "source": [
        "    "
      ]
    },
    {
      "cell_type": "markdown",
      "metadata": {
        "collapsed": true,
        "id": "9vFH-FRw2HIw"
      },
      "source": [
        "### try/except: catching exceptions"
      ]
    },
    {
      "cell_type": "markdown",
      "metadata": {
        "collapsed": true,
        "id": "iZHCaHUq2HIw"
      },
      "source": [
        "> try:\n",
        "\n",
        ">     do something\n",
        "\n",
        "> except:\n",
        "\n",
        ">     do this if the other was raising an error"
      ]
    },
    {
      "cell_type": "markdown",
      "metadata": {
        "id": "bSC_EhoR2HIy"
      },
      "source": [
        "Different exceptions can be combined, rasingin different type of errors:"
      ]
    },
    {
      "cell_type": "code",
      "metadata": {
        "run_control": {
          "frozen": false,
          "read_only": false
        },
        "id": "ln4zc8WY2HIz"
      },
      "source": [
        "k = 'f6'\n",
        "import sys\n",
        "try:\n",
        "    i = int(k)\n",
        "except ValueError:\n",
        "    print(\"Could not convert data to an integer.\")\n",
        "except:\n",
        "    print(\"Unexpected error:\", sys.exc_info()[0])\n",
        "    raise\n",
        "    "
      ],
      "execution_count": null,
      "outputs": []
    },
    {
      "cell_type": "code",
      "metadata": {
        "colab": {
          "base_uri": "https://localhost:8080/",
          "height": 167
        },
        "id": "jh1xOR0Rk9yL",
        "outputId": "b189b473-a654-49b6-a3b0-5668dc19af10"
      },
      "source": [
        "int(1+4j)"
      ],
      "execution_count": null,
      "outputs": [
        {
          "output_type": "error",
          "ename": "TypeError",
          "evalue": "ignored",
          "traceback": [
            "\u001b[0;31m---------------------------------------------------------------------------\u001b[0m",
            "\u001b[0;31mTypeError\u001b[0m                                 Traceback (most recent call last)",
            "\u001b[0;32m<ipython-input-1-764aaacbb91a>\u001b[0m in \u001b[0;36m<module>\u001b[0;34m()\u001b[0m\n\u001b[0;32m----> 1\u001b[0;31m \u001b[0mint\u001b[0m\u001b[0;34m(\u001b[0m\u001b[0;36m1\u001b[0m\u001b[0;34m+\u001b[0m\u001b[0;36m4j\u001b[0m\u001b[0;34m)\u001b[0m\u001b[0;34m\u001b[0m\u001b[0;34m\u001b[0m\u001b[0m\n\u001b[0m",
            "\u001b[0;31mTypeError\u001b[0m: can't convert complex to int"
          ]
        }
      ]
    },
    {
      "cell_type": "code",
      "metadata": {
        "colab": {
          "base_uri": "https://localhost:8080/"
        },
        "id": "mlY2bJJDlDmE",
        "outputId": "cfcb1b9a-af44-401a-c8c0-5ad6a92e0a60"
      },
      "source": [
        "type(\"aa*\")"
      ],
      "execution_count": null,
      "outputs": [
        {
          "output_type": "execute_result",
          "data": {
            "text/plain": [
              "str"
            ]
          },
          "metadata": {},
          "execution_count": 3
        }
      ]
    },
    {
      "cell_type": "code",
      "metadata": {
        "colab": {
          "base_uri": "https://localhost:8080/"
        },
        "id": "UCqjpSMvlbtl",
        "outputId": "47d160f0-864a-4b40-ebd7-253b0aa5228a"
      },
      "source": [
        "isinstance(\"zzz\",str)"
      ],
      "execution_count": null,
      "outputs": [
        {
          "output_type": "execute_result",
          "data": {
            "text/plain": [
              "True"
            ]
          },
          "metadata": {},
          "execution_count": 4
        }
      ]
    },
    {
      "cell_type": "code",
      "metadata": {
        "id": "mLYybR61ljsO"
      },
      "source": [
        ""
      ],
      "execution_count": null,
      "outputs": []
    }
  ]
}